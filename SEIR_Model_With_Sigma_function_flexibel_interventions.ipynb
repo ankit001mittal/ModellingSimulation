{
 "cells": [
  {
   "cell_type": "code",
   "execution_count": 1,
   "metadata": {},
   "outputs": [],
   "source": [
    "#### Global Variables\n",
    "\n",
    "#SEIR Model with Social Distancing { run: \"auto\" }\n",
    "# Reproduction number\n",
    "R0 = 2.4\n",
    "\n",
    "# Disease periods in days\n",
    "t_incubation = 5.1\n",
    "t_infective = 3.3 \n",
    "\n",
    "#Population Size\n",
    "N = 14000\n",
    "#Initial number exposed\n",
    "n = 10 \n",
    "# Start of social distancing following exposure (weeks)\n",
    "t_social_distancing = 2\n",
    "# Effectiveness of social distancing (0 to 100%)\n",
    "u_social_distancing = 40 "
   ]
  },
  {
   "cell_type": "code",
   "execution_count": 2,
   "metadata": {},
   "outputs": [],
   "source": [
    "import numpy as np\n",
    "from scipy.integrate import odeint\n",
    "import matplotlib.pyplot as plt\n",
    "import seaborn as sns\n",
    "import math"
   ]
  },
  {
   "cell_type": "code",
   "execution_count": 3,
   "metadata": {},
   "outputs": [],
   "source": [
    "# initial number of infected and recovered individuals\n",
    "\n",
    "e_initial = n/N\n",
    "i_initial = 0.00\n",
    "r_initial = 0.00\n",
    "s_initial = 1 - e_initial - i_initial - r_initial\n",
    "\n",
    "alpha = 1/t_incubation\n",
    "gamma = 1/t_infective\n",
    "beta = R0*gamma"
   ]
  },
  {
   "cell_type": "code",
   "execution_count": 4,
   "metadata": {},
   "outputs": [
    {
     "data": {
      "image/png": "[encoded data removed]",
      "text/plain": [
       "<Figure size 432x288 with 1 Axes>"
      ]
     },
     "metadata": {
      "needs_background": "light"
     },
     "output_type": "display_data"
    }
   ],
   "source": [
    "# linear risk of infection, sigma, of strategie,\n",
    "\n",
    "def sigma_lin(c):\n",
    "    return 1-c\n",
    "\n",
    "c = np.linspace(0,1,3001)\n",
    "\n",
    "plt.plot(c, sigma_lin(c))\n",
    "plt.xlabel('Percentage of set interventions')\n",
    "plt.ylabel('Risk of infection')\n",
    "plt.show()"
   ]
  },
  {
   "cell_type": "code",
   "execution_count": 5,
   "metadata": {},
   "outputs": [
    {
     "data": {
      "image/png": "[encoded data removed]",
      "text/plain": [
       "<Figure size 432x288 with 1 Axes>"
      ]
     },
     "metadata": {
      "needs_background": "light"
     },
     "output_type": "display_data"
    }
   ],
   "source": [
    "# exponential risk of infection, sigma, of strategie,\n",
    "\n",
    "def sigma_exp(c):\n",
    "    return math.e**(-5*c)\n",
    "\n",
    "c = np.linspace(0,1,3001)\n",
    "\n",
    "plt.plot(c, sigma_exp(c))\n",
    "plt.xlabel('Percentage of interventions (c)')\n",
    "plt.ylabel('Risk of infection')\n",
    "plt.show()"
   ]
  },
  {
   "cell_type": "code",
   "execution_count": 6,
   "metadata": {},
   "outputs": [],
   "source": [
    "def sigma(risk_of_infection,t):\n",
    "    return risk_of_infection if t >= 7*t_social_distancing else 1"
   ]
  },
  {
   "cell_type": "code",
   "execution_count": 7,
   "metadata": {},
   "outputs": [],
   "source": [
    "# SEIR model differential equations.\n",
    "def deriv(x, t, u, alpha, beta, gamma):\n",
    "    s, e, i, r = x\n",
    "    dsdt = -sigma(sigma_lin(u/100),t)*beta * s * i\n",
    "    dedt =  sigma(sigma_lin(u/100),t)*beta * s * i - alpha * e\n",
    "    didt = alpha * e - gamma * i\n",
    "    drdt =  gamma * i\n",
    "    return [dsdt, dedt, didt, drdt]"
   ]
  },
  {
   "cell_type": "code",
   "execution_count": 8,
   "metadata": {},
   "outputs": [],
   "source": [
    "#the strategie is set when the number of infections exceed infections_max\n",
    "\n",
    "def determine_strategie(i, u, u_social_distancing, infections_max, t):\n",
    "    if (i*N >= infections_max):\n",
    "        print('set interventions at level',u_social_distancing, 'i*N:',i*N, 't =',t)\n",
    "        return u_social_distancing\n",
    "    else: \n",
    "        return u"
   ]
  },
  {
   "cell_type": "code",
   "execution_count": 9,
   "metadata": {},
   "outputs": [],
   "source": [
    "# SEIR model differential equations.\n",
    "def deriv_flex(x, t, u, u_social_distancing, infections_max, alpha, beta, gamma):\n",
    "    s, e, i, r = x\n",
    "    dsdt = -sigma(sigma_lin( determine_strategie(i, u, u_social_distancing, infections_max, t)/100),t)*beta * s * i\n",
    "    dedt =  sigma(sigma_lin( determine_strategie(i, u, u_social_distancing, infections_max, t)/100),t)*beta * s * i - alpha * e\n",
    "    didt = alpha * e - gamma * i\n",
    "    drdt = gamma * i\n",
    "    return [dsdt, dedt, didt, drdt]"
   ]
  },
  {
   "cell_type": "code",
   "execution_count": 10,
   "metadata": {},
   "outputs": [
    {
     "ename": "TypeError",
     "evalue": "determine_strategie() missing 1 required positional argument: 't'",
     "output_type": "error",
     "traceback": [
      "\u001b[0;31m---------------------------------------------------------------------------\u001b[0m",
      "\u001b[0;31mTypeError\u001b[0m                                 Traceback (most recent call last)",
      "\u001b[0;32m<ipython-input-10-07ac3aa59156>\u001b[0m in \u001b[0;36m<module>\u001b[0;34m\u001b[0m\n\u001b[1;32m      9\u001b[0m \u001b[0mx_initial_flex\u001b[0m \u001b[0;34m=\u001b[0m \u001b[0ms_initial\u001b[0m\u001b[0;34m,\u001b[0m \u001b[0me_initial\u001b[0m\u001b[0;34m,\u001b[0m \u001b[0mi_initial\u001b[0m\u001b[0;34m,\u001b[0m \u001b[0mr_initial\u001b[0m\u001b[0;34m\u001b[0m\u001b[0;34m\u001b[0m\u001b[0m\n\u001b[1;32m     10\u001b[0m \u001b[0minfections_max\u001b[0m \u001b[0;34m=\u001b[0m \u001b[0;36m500\u001b[0m\u001b[0;34m\u001b[0m\u001b[0;34m\u001b[0m\u001b[0m\n\u001b[0;32m---> 11\u001b[0;31m \u001b[0ms_f\u001b[0m\u001b[0;34m,\u001b[0m \u001b[0me_f\u001b[0m\u001b[0;34m,\u001b[0m \u001b[0mi_f\u001b[0m\u001b[0;34m,\u001b[0m \u001b[0mr_f\u001b[0m \u001b[0;34m=\u001b[0m \u001b[0modeint\u001b[0m\u001b[0;34m(\u001b[0m\u001b[0mderiv_flex\u001b[0m\u001b[0;34m,\u001b[0m \u001b[0mx_initial_flex\u001b[0m\u001b[0;34m,\u001b[0m \u001b[0mt\u001b[0m\u001b[0;34m,\u001b[0m \u001b[0margs\u001b[0m\u001b[0;34m=\u001b[0m\u001b[0;34m(\u001b[0m\u001b[0;36m0\u001b[0m\u001b[0;34m,\u001b[0m \u001b[0mu_social_distancing\u001b[0m\u001b[0;34m,\u001b[0m \u001b[0;36m500\u001b[0m\u001b[0;34m,\u001b[0m \u001b[0malpha\u001b[0m\u001b[0;34m,\u001b[0m \u001b[0mbeta\u001b[0m\u001b[0;34m,\u001b[0m \u001b[0mgamma\u001b[0m\u001b[0;34m)\u001b[0m\u001b[0;34m)\u001b[0m\u001b[0;34m.\u001b[0m\u001b[0mT\u001b[0m\u001b[0;34m\u001b[0m\u001b[0;34m\u001b[0m\u001b[0m\n\u001b[0m",
      "\u001b[0;32m/opt/anaconda3/lib/python3.7/site-packages/scipy/integrate/odepack.py\u001b[0m in \u001b[0;36modeint\u001b[0;34m(func, y0, t, args, Dfun, col_deriv, full_output, ml, mu, rtol, atol, tcrit, h0, hmax, hmin, ixpr, mxstep, mxhnil, mxordn, mxords, printmessg, tfirst)\u001b[0m\n\u001b[1;32m    242\u001b[0m                              \u001b[0mfull_output\u001b[0m\u001b[0;34m,\u001b[0m \u001b[0mrtol\u001b[0m\u001b[0;34m,\u001b[0m \u001b[0matol\u001b[0m\u001b[0;34m,\u001b[0m \u001b[0mtcrit\u001b[0m\u001b[0;34m,\u001b[0m \u001b[0mh0\u001b[0m\u001b[0;34m,\u001b[0m \u001b[0mhmax\u001b[0m\u001b[0;34m,\u001b[0m \u001b[0mhmin\u001b[0m\u001b[0;34m,\u001b[0m\u001b[0;34m\u001b[0m\u001b[0;34m\u001b[0m\u001b[0m\n\u001b[1;32m    243\u001b[0m                              \u001b[0mixpr\u001b[0m\u001b[0;34m,\u001b[0m \u001b[0mmxstep\u001b[0m\u001b[0;34m,\u001b[0m \u001b[0mmxhnil\u001b[0m\u001b[0;34m,\u001b[0m \u001b[0mmxordn\u001b[0m\u001b[0;34m,\u001b[0m \u001b[0mmxords\u001b[0m\u001b[0;34m,\u001b[0m\u001b[0;34m\u001b[0m\u001b[0;34m\u001b[0m\u001b[0m\n\u001b[0;32m--> 244\u001b[0;31m                              int(bool(tfirst)))\n\u001b[0m\u001b[1;32m    245\u001b[0m     \u001b[0;32mif\u001b[0m \u001b[0moutput\u001b[0m\u001b[0;34m[\u001b[0m\u001b[0;34m-\u001b[0m\u001b[0;36m1\u001b[0m\u001b[0;34m]\u001b[0m \u001b[0;34m<\u001b[0m \u001b[0;36m0\u001b[0m\u001b[0;34m:\u001b[0m\u001b[0;34m\u001b[0m\u001b[0;34m\u001b[0m\u001b[0m\n\u001b[1;32m    246\u001b[0m         \u001b[0mwarning_msg\u001b[0m \u001b[0;34m=\u001b[0m \u001b[0m_msgs\u001b[0m\u001b[0;34m[\u001b[0m\u001b[0moutput\u001b[0m\u001b[0;34m[\u001b[0m\u001b[0;34m-\u001b[0m\u001b[0;36m1\u001b[0m\u001b[0;34m]\u001b[0m\u001b[0;34m]\u001b[0m \u001b[0;34m+\u001b[0m \u001b[0;34m\" Run with full_output = 1 to get quantitative information.\"\u001b[0m\u001b[0;34m\u001b[0m\u001b[0;34m\u001b[0m\u001b[0m\n",
      "\u001b[0;32m<ipython-input-9-e9df3919f750>\u001b[0m in \u001b[0;36mderiv_flex\u001b[0;34m(x, t, u, u_social_distancing, infections_max, alpha, beta, gamma)\u001b[0m\n\u001b[1;32m      2\u001b[0m \u001b[0;32mdef\u001b[0m \u001b[0mderiv_flex\u001b[0m\u001b[0;34m(\u001b[0m\u001b[0mx\u001b[0m\u001b[0;34m,\u001b[0m \u001b[0mt\u001b[0m\u001b[0;34m,\u001b[0m \u001b[0mu\u001b[0m\u001b[0;34m,\u001b[0m \u001b[0mu_social_distancing\u001b[0m\u001b[0;34m,\u001b[0m \u001b[0minfections_max\u001b[0m\u001b[0;34m,\u001b[0m \u001b[0malpha\u001b[0m\u001b[0;34m,\u001b[0m \u001b[0mbeta\u001b[0m\u001b[0;34m,\u001b[0m \u001b[0mgamma\u001b[0m\u001b[0;34m)\u001b[0m\u001b[0;34m:\u001b[0m\u001b[0;34m\u001b[0m\u001b[0;34m\u001b[0m\u001b[0m\n\u001b[1;32m      3\u001b[0m     \u001b[0ms\u001b[0m\u001b[0;34m,\u001b[0m \u001b[0me\u001b[0m\u001b[0;34m,\u001b[0m \u001b[0mi\u001b[0m\u001b[0;34m,\u001b[0m \u001b[0mr\u001b[0m \u001b[0;34m=\u001b[0m \u001b[0mx\u001b[0m\u001b[0;34m\u001b[0m\u001b[0;34m\u001b[0m\u001b[0m\n\u001b[0;32m----> 4\u001b[0;31m     \u001b[0mdsdt\u001b[0m \u001b[0;34m=\u001b[0m \u001b[0;34m-\u001b[0m\u001b[0msigma\u001b[0m\u001b[0;34m(\u001b[0m\u001b[0msigma_lin\u001b[0m\u001b[0;34m(\u001b[0m \u001b[0mdetermine_strategie\u001b[0m\u001b[0;34m(\u001b[0m\u001b[0mi\u001b[0m\u001b[0;34m,\u001b[0m \u001b[0mu_social_distancing\u001b[0m\u001b[0;34m,\u001b[0m \u001b[0minfections_max\u001b[0m\u001b[0;34m,\u001b[0m \u001b[0mt\u001b[0m\u001b[0;34m)\u001b[0m\u001b[0;34m/\u001b[0m\u001b[0;36m100\u001b[0m\u001b[0;34m)\u001b[0m\u001b[0;34m,\u001b[0m\u001b[0mt\u001b[0m\u001b[0;34m)\u001b[0m\u001b[0;34m*\u001b[0m\u001b[0mbeta\u001b[0m \u001b[0;34m*\u001b[0m \u001b[0ms\u001b[0m \u001b[0;34m*\u001b[0m \u001b[0mi\u001b[0m\u001b[0;34m\u001b[0m\u001b[0;34m\u001b[0m\u001b[0m\n\u001b[0m\u001b[1;32m      5\u001b[0m     \u001b[0mdedt\u001b[0m \u001b[0;34m=\u001b[0m  \u001b[0msigma\u001b[0m\u001b[0;34m(\u001b[0m\u001b[0msigma_lin\u001b[0m\u001b[0;34m(\u001b[0m \u001b[0mdetermine_strategie\u001b[0m\u001b[0;34m(\u001b[0m\u001b[0mi\u001b[0m\u001b[0;34m,\u001b[0m \u001b[0mu_social_distancing\u001b[0m\u001b[0;34m,\u001b[0m \u001b[0minfections_max\u001b[0m\u001b[0;34m,\u001b[0m \u001b[0mt\u001b[0m\u001b[0;34m)\u001b[0m\u001b[0;34m/\u001b[0m\u001b[0;36m100\u001b[0m\u001b[0;34m)\u001b[0m\u001b[0;34m,\u001b[0m\u001b[0mt\u001b[0m\u001b[0;34m)\u001b[0m\u001b[0;34m*\u001b[0m\u001b[0mbeta\u001b[0m \u001b[0;34m*\u001b[0m \u001b[0ms\u001b[0m \u001b[0;34m*\u001b[0m \u001b[0mi\u001b[0m \u001b[0;34m-\u001b[0m \u001b[0malpha\u001b[0m \u001b[0;34m*\u001b[0m \u001b[0me\u001b[0m\u001b[0;34m\u001b[0m\u001b[0;34m\u001b[0m\u001b[0m\n\u001b[1;32m      6\u001b[0m     \u001b[0mdidt\u001b[0m \u001b[0;34m=\u001b[0m \u001b[0malpha\u001b[0m \u001b[0;34m*\u001b[0m \u001b[0me\u001b[0m \u001b[0;34m-\u001b[0m \u001b[0mgamma\u001b[0m \u001b[0;34m*\u001b[0m \u001b[0mi\u001b[0m\u001b[0;34m\u001b[0m\u001b[0;34m\u001b[0m\u001b[0m\n",
      "\u001b[0;31mTypeError\u001b[0m: determine_strategie() missing 1 required positional argument: 't'"
     ]
    }
   ],
   "source": [
    "# A grid of time points (in days)\n",
    "t_max = 365 # maximum number of days, e.g. until vaccination \n",
    "t = np.linspace(0, t_max, t_max+1)\n",
    "\n",
    "x_initial = s_initial, e_initial, i_initial, r_initial\n",
    "s, e, i, r = odeint(deriv, x_initial, t, args=(u_social_distancing, alpha, beta, gamma)).T\n",
    "s0, e0, i0, r0 = odeint(deriv, x_initial, t, args=(0, alpha, beta, gamma)).T\n",
    "\n",
    "x_initial_flex = s_initial, e_initial, i_initial, r_initial\n",
    "infections_max = 500\n",
    "s_f, e_f, i_f, r_f = odeint(deriv_flex, x_initial_flex, t, args=(0, u_social_distancing, 500, alpha, beta, gamma)).T"
   ]
  },
  {
   "cell_type": "code",
   "execution_count": null,
   "metadata": {},
   "outputs": [],
   "source": [
    "# plot the data\n",
    "fig = plt.figure(figsize=(12, 10))\n",
    "ax = [fig.add_subplot(311, axisbelow=True)]\n",
    "\n",
    "pal = sns.color_palette()\n",
    "\n",
    "ax[0].stackplot(t/7, N*i0,N*e0, colors=pal[2:0:-1], alpha=0.5)\n",
    "ax[0].stackplot(t/7, N*i, N*e, colors=pal[2:0:-1], alpha=0.5)\n",
    "ax[0].stackplot(t/7, N*i_f, N*e_f, colors=pal[2:0:-1], alpha=0.5)\n",
    "ax[0].set_title('Infected Population with no Social Distancing and with {0:3.0f}% Effective Social Distancing'.format(u_social_distancing))\n",
    "ax[0].set_xlim(0, t[-1]/7)\n",
    "ax[0].set_ylim(0, max(0.3*N, 1.05*max(N*(e + i))))\n",
    "ax[0].set_xlabel('Weeks following Initial Campus Exposure')\n",
    "ax[0].legend([\n",
    "    'Infective/Symptomatic', \n",
    "    'Exposed/Not Sympotomatic'],\n",
    "    loc='upper right')\n",
    "ax[0].plot(np.array([t_social_distancing, t_social_distancing]), ax[0].get_ylim(), 'r', lw=3)\n",
    "\n",
    "y0 = N*(e0 + i0)\n",
    "k0 = np.argmax(y0)\n",
    "ax[0].annotate(\"No social distancing\", (t[k0]/7, y0[k0] + 100))\n",
    "\n",
    "y = N*(e + i)\n",
    "k = np.argmax(y)\n",
    "ax[0].annotate(\"With {0:3.0f}% effective social distancing \".format(u_social_distancing), (t[k]/7, y[k] + 100))\n",
    "\n",
    "y_f = N*(e_f + i_f)\n",
    "k_f = np.argmax(y_f)\n",
    "ax[0].annotate(\"With {0:3.0f}% effective social distancing set at {1} infections\".format(u_social_distancing,infections_max), (t[k_f]/7, y_f[k_f] + 100))\n",
    "\n",
    "for a in ax:\n",
    "    a.xaxis.set_major_locator(plt.MultipleLocator(5))\n",
    "    a.xaxis.set_minor_locator(plt.MultipleLocator(1))\n",
    "    a.xaxis.set_major_formatter(plt.FormatStrFormatter('%d'))\n",
    "    a.grid(True)\n",
    "\n",
    "plt.tight_layout()"
   ]
  }
 ],
 "metadata": {
  "kernelspec": {
   "display_name": "Python 3",
   "language": "python",
   "name": "python3"
  },
  "language_info": {
   "codemirror_mode": {
    "name": "ipython",
    "version": 3
   },
   "file_extension": ".py",
   "mimetype": "text/x-python",
   "name": "python",
   "nbconvert_exporter": "python",
   "pygments_lexer": "ipython3",
   "version": "3.7.4"
  }
 },
 "nbformat": 4,
 "nbformat_minor": 4
}
